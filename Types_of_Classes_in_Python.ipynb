{
  "nbformat": 4,
  "nbformat_minor": 0,
  "metadata": {
    "colab": {
      "provenance": [],
      "authorship_tag": "ABX9TyP+F/FYTq2GvQ6eHPOGaT+k",
      "include_colab_link": true
    },
    "kernelspec": {
      "name": "python3",
      "display_name": "Python 3"
    },
    "language_info": {
      "name": "python"
    }
  },
  "cells": [
    {
      "cell_type": "markdown",
      "metadata": {
        "id": "view-in-github",
        "colab_type": "text"
      },
      "source": [
        "<a href=\"https://colab.research.google.com/github/Rutu07/Analytics-Vidhya-Coursework/blob/main/Types_of_Classes_in_Python.ipynb\" target=\"_parent\"><img src=\"https://colab.research.google.com/assets/colab-badge.svg\" alt=\"Open In Colab\"/></a>"
      ]
    },
    {
      "cell_type": "code",
      "execution_count": 38,
      "metadata": {
        "id": "ZYjeXlEEHDOy"
      },
      "outputs": [],
      "source": [
        "class Cars:\n",
        "\n",
        "  # Defining class variables\n",
        "  num_wheels=4\n",
        "  year_manufacture=2021\n",
        "  speed_rpm=1800\n",
        "\n",
        "  def __init__(self, number,fuel_type,capacity,torque):\n",
        "    #Initializing instance variables\n",
        "    self.number=number\n",
        "    self.fuel_type=fuel_type\n",
        "    self.capacity=capacity\n",
        "    self.torque=torque\n",
        "\n",
        "  # Defining regular method. This takes in self instance and utlizing the 2 instance variables (torque and speed_rpm) returns the power\n",
        "  def power_calc(self):\n",
        "    return (self.torque * self.speed_rpm)/9550\n",
        "  \n",
        "  # Defining a class method to alter speed value. This method takes in class instance and uses this class instance to modify class variables\n",
        "  @classmethod\n",
        "  def set_speed(cls,speed):\n",
        "    cls.spped_rpm=speed\n",
        "\n",
        "  # static methods: Take in 2 arguments from the caller, and returns the output\n",
        "  @staticmethod\n",
        "  def fuel_cost(price_per_litre,tank_capacity):\n",
        "    return price_per_litre*tank_capacity"
      ]
    },
    {
      "cell_type": "code",
      "source": [
        "car_1=Cars(\"MY 1930\",\"Petrol\",\"35 :itres\",200)"
      ],
      "metadata": {
        "id": "2FCtBf-uHm1x"
      },
      "execution_count": 26,
      "outputs": []
    },
    {
      "cell_type": "code",
      "source": [
        "car_1"
      ],
      "metadata": {
        "colab": {
          "base_uri": "https://localhost:8080/"
        },
        "id": "C7YpRa2-HnNd",
        "outputId": "16ff36b5-7e62-4952-a60d-5a50e2d9a5e8"
      },
      "execution_count": 3,
      "outputs": [
        {
          "output_type": "execute_result",
          "data": {
            "text/plain": [
              "<__main__.Cars at 0x7fd4a8bb2cd0>"
            ]
          },
          "metadata": {},
          "execution_count": 3
        }
      ]
    },
    {
      "cell_type": "code",
      "source": [
        "car_1.fuel_type"
      ],
      "metadata": {
        "colab": {
          "base_uri": "https://localhost:8080/",
          "height": 35
        },
        "id": "GAvhCaMdHnUm",
        "outputId": "81b735d4-04dc-4d6c-8f97-802a91c9f173"
      },
      "execution_count": 28,
      "outputs": [
        {
          "output_type": "execute_result",
          "data": {
            "text/plain": [
              "'Petrol'"
            ],
            "application/vnd.google.colaboratory.intrinsic+json": {
              "type": "string"
            }
          },
          "metadata": {},
          "execution_count": 28
        }
      ]
    },
    {
      "cell_type": "code",
      "source": [
        "car_1 = Cars(\"RJ06 1719\", \"Petrol\", \"35 Litres\", 200)\n",
        "car_2 = Cars(\"DL09 2969\", \"Disel\", \"30 Litres\", 250)"
      ],
      "metadata": {
        "id": "MqpudAMfIFtW"
      },
      "execution_count": 27,
      "outputs": []
    },
    {
      "cell_type": "code",
      "source": [
        "car_2.capacity"
      ],
      "metadata": {
        "colab": {
          "base_uri": "https://localhost:8080/",
          "height": 35
        },
        "id": "5_o6woShIF25",
        "outputId": "0596d574-0114-436b-ad74-7beeb904111b"
      },
      "execution_count": 29,
      "outputs": [
        {
          "output_type": "execute_result",
          "data": {
            "text/plain": [
              "'30 Litres'"
            ],
            "application/vnd.google.colaboratory.intrinsic+json": {
              "type": "string"
            }
          },
          "metadata": {},
          "execution_count": 29
        }
      ]
    },
    {
      "cell_type": "code",
      "source": [
        "car_2.power_calc()"
      ],
      "metadata": {
        "colab": {
          "base_uri": "https://localhost:8080/"
        },
        "id": "DHKPVWlYIfnV",
        "outputId": "5b6ce5d5-0345-4d09-e2f1-00c1e44c1fc0"
      },
      "execution_count": 30,
      "outputs": [
        {
          "output_type": "execute_result",
          "data": {
            "text/plain": [
              "47.12041884816754"
            ]
          },
          "metadata": {},
          "execution_count": 30
        }
      ]
    },
    {
      "cell_type": "code",
      "source": [
        "Cars.speed_rpm = 2000"
      ],
      "metadata": {
        "id": "1FJA6DW3IGAq"
      },
      "execution_count": 31,
      "outputs": []
    },
    {
      "cell_type": "code",
      "source": [
        "car_2.speed_rpm"
      ],
      "metadata": {
        "colab": {
          "base_uri": "https://localhost:8080/"
        },
        "id": "n6s1wEZ7Jtds",
        "outputId": "f5a36ed4-39ff-4895-c9d7-17b41981f3f0"
      },
      "execution_count": 32,
      "outputs": [
        {
          "output_type": "execute_result",
          "data": {
            "text/plain": [
              "2000"
            ]
          },
          "metadata": {},
          "execution_count": 32
        }
      ]
    },
    {
      "cell_type": "code",
      "source": [
        "Cars.set_speed(2100)"
      ],
      "metadata": {
        "id": "2JA68lL7KUPr"
      },
      "execution_count": 33,
      "outputs": []
    },
    {
      "cell_type": "code",
      "source": [
        "car_1.power_calc()"
      ],
      "metadata": {
        "colab": {
          "base_uri": "https://localhost:8080/"
        },
        "id": "YqUTzg_5KXdQ",
        "outputId": "0e62dd8e-14e5-4e53-9bf3-6e9cd7dbff7d"
      },
      "execution_count": 34,
      "outputs": [
        {
          "output_type": "execute_result",
          "data": {
            "text/plain": [
              "41.8848167539267"
            ]
          },
          "metadata": {},
          "execution_count": 34
        }
      ]
    },
    {
      "cell_type": "code",
      "source": [
        "Cars.fuel_cost(75,30)"
      ],
      "metadata": {
        "colab": {
          "base_uri": "https://localhost:8080/"
        },
        "id": "u94dRae1K7k2",
        "outputId": "b0422752-d5fc-4e7f-9bfc-1b79038825b5"
      },
      "execution_count": 39,
      "outputs": [
        {
          "output_type": "execute_result",
          "data": {
            "text/plain": [
              "2250"
            ]
          },
          "metadata": {},
          "execution_count": 39
        }
      ]
    },
    {
      "cell_type": "markdown",
      "source": [
        "- Special Methods\n"
      ],
      "metadata": {
        "id": "oEttdMMiLI9Y"
      }
    },
    {
      "cell_type": "code",
      "source": [
        "class Cars:\n",
        "\n",
        "  def __init__(self,owner,number,cost):\n",
        "\n",
        "    self.owner=owner\n",
        "    self.number=number\n",
        "    self.cost=cost\n",
        "\n",
        "  def __add__(first,second):\n",
        "    return first.cost+second.cost\n",
        "  \n",
        "  def __len__(self):\n",
        "    return len(self.owner)"
      ],
      "metadata": {
        "id": "OXnpbzVWKXxz"
      },
      "execution_count": 46,
      "outputs": []
    },
    {
      "cell_type": "code",
      "source": [
        "car_1=Cars(\"Rutuja\",'SA 1492',50000)\n",
        "car_2=Cars(\"Esha\",'Yh 4820',80000)"
      ],
      "metadata": {
        "id": "CXSZb892KX5U"
      },
      "execution_count": 47,
      "outputs": []
    },
    {
      "cell_type": "code",
      "source": [
        "car_1+car_2"
      ],
      "metadata": {
        "colab": {
          "base_uri": "https://localhost:8080/"
        },
        "id": "X5-f-jR5Lt0V",
        "outputId": "6da0e3fb-8444-4642-dd44-d848639c6d94"
      },
      "execution_count": 48,
      "outputs": [
        {
          "output_type": "execute_result",
          "data": {
            "text/plain": [
              "130000"
            ]
          },
          "metadata": {},
          "execution_count": 48
        }
      ]
    },
    {
      "cell_type": "code",
      "source": [
        "len(car_1)"
      ],
      "metadata": {
        "colab": {
          "base_uri": "https://localhost:8080/"
        },
        "id": "XZ4pBfV2L1xh",
        "outputId": "d76fb508-f4dd-4c99-e605-6c1e3f05b2a6"
      },
      "execution_count": 49,
      "outputs": [
        {
          "output_type": "execute_result",
          "data": {
            "text/plain": [
              "6"
            ]
          },
          "metadata": {},
          "execution_count": 49
        }
      ]
    },
    {
      "cell_type": "code",
      "source": [
        "len(car_2)"
      ],
      "metadata": {
        "colab": {
          "base_uri": "https://localhost:8080/"
        },
        "id": "FbzccdlWL4xt",
        "outputId": "500a2dc5-4ceb-47a1-a33e-1922bff75811"
      },
      "execution_count": 50,
      "outputs": [
        {
          "output_type": "execute_result",
          "data": {
            "text/plain": [
              "4"
            ]
          },
          "metadata": {},
          "execution_count": 50
        }
      ]
    }
  ]
}